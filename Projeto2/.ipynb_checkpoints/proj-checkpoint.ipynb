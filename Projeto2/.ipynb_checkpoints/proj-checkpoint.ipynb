{
 "cells": [
  {
   "cell_type": "code",
   "execution_count": 1,
   "id": "0118dce2",
   "metadata": {},
   "outputs": [
    {
     "name": "stdout",
     "output_type": "stream",
     "text": [
      "   SIZE         FUEL  DISTANCE  DESIBEL  AIRFLOW  FREQUENCY CLASS\n",
      "0   1.0  b'gasoline'      10.0     96.0      0.0       75.0  b'0'\n",
      "1   1.0  b'gasoline'      10.0     96.0      0.0       72.0  b'1'\n",
      "2   1.0  b'gasoline'      10.0     96.0      2.6       70.0  b'1'\n",
      "3   1.0  b'gasoline'      10.0     96.0      3.2       68.0  b'1'\n",
      "4   1.0  b'gasoline'      10.0    109.0      4.5       67.0  b'1'\n"
     ]
    }
   ],
   "source": [
    "from scipy.io.arff import loadarff\n",
    "import pandas as pd\n",
    "\n",
    "data = loadarff('Acoustic_Extinguisher_Fire_Dataset.arff')\n",
    "df = pd.DataFrame(data[0])\n",
    "\n",
    "# Print the first 5 rows of the DataFrame\n",
    "print(df.head())"
   ]
  },
  {
   "cell_type": "code",
   "execution_count": null,
   "id": "a846b487",
   "metadata": {},
   "outputs": [],
   "source": []
  }
 ],
 "metadata": {
  "kernelspec": {
   "display_name": "Python 3 (ipykernel)",
   "language": "python",
   "name": "python3"
  },
  "language_info": {
   "codemirror_mode": {
    "name": "ipython",
    "version": 3
   },
   "file_extension": ".py",
   "mimetype": "text/x-python",
   "name": "python",
   "nbconvert_exporter": "python",
   "pygments_lexer": "ipython3",
   "version": "3.10.9"
  }
 },
 "nbformat": 4,
 "nbformat_minor": 5
}
